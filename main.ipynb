{
 "cells": [
  {
   "cell_type": "markdown",
   "metadata": {},
   "source": [
    "# Main notebook for COVID-19 detection in children"
   ]
  },
  {
   "cell_type": "markdown",
   "metadata": {},
   "source": [
    "## Authors:\n",
    "\n",
    "- Marc Garcia\n",
    "- Jofre Poch\n",
    "- Pau Tarragó\n",
    "- Pau Matas\n",
    "- Tomás Gadea"
   ]
  },
  {
   "cell_type": "markdown",
   "metadata": {},
   "source": [
    "## Summary of steps for the project:\n",
    "- **Exploratory Data Analysis (EDA)**: entendre les dades\n",
    "\n",
    "\n",
    "- **Data Cleaning**: treure NULLs, eliminar dades no importants, etc.\n",
    "\n",
    "\n",
    "- **Feature Selection**: escollir les variables explicatives que li passarem al model\n",
    "\n",
    "\n",
    "- **Model selection**: Escollir un model classificador (té covid o no; si té covid => PCR, si no => pa casa)\n",
    "\n",
    "\n",
    "- **Model training**: entrenar el model, és copiar 4 linies de codi xd\n",
    "\n",
    "\n",
    "- **Model Validation**: Veure com de bé ho ha fet. Per exemple veient els square errors de valors predits vs resposta de veritat.\n",
    "\n",
    "\n",
    "- **Parameter tunning**: Canviar els paràmetres per millorar el model validation."
   ]
  },
  {
   "cell_type": "markdown",
   "metadata": {},
   "source": [
    "## Actual work:"
   ]
  },
  {
   "cell_type": "code",
   "execution_count": null,
   "metadata": {},
   "outputs": [],
   "source": [
    "import numpy as np\n",
    "import pandas as pd\n",
    "import matplotlib.pyplot as plt\n",
    "from sklearn.metrics import mean_absolute_error\n",
    "from sklearn.model_selection import train_test_split\n",
    "from sklearn.tree import DecisionTreeRegressor\n",
    "\n",
    "import seaborn as sns\n",
    "import warnings\n",
    "warnings.filterwarnings('ignore')\n",
    "%matplotlib notebook"
   ]
  },
  {
   "cell_type": "code",
   "execution_count": null,
   "metadata": {},
   "outputs": [],
   "source": [
    "path = './COPEDICATClinicSympt_DATA_2020-12-17_1642.csv'\n",
    "df = pd.read_csv(path)\n",
    "df.head()"
   ]
  },
  {
   "cell_type": "code",
   "execution_count": null,
   "metadata": {},
   "outputs": [],
   "source": [
    "# EDA:\n",
    "print(f'Dataset has {df.shape[0]} rows and {df.shape[1]} columns.')"
   ]
  },
  {
   "cell_type": "code",
   "execution_count": null,
   "metadata": {},
   "outputs": [],
   "source": [
    "plt.figure(figsize=(10, 10))\n",
    "nulls = df.isnull().sum().sort_values(ascending=False)\n",
    "sns.barplot(y=df.columns, x=nulls)"
   ]
  },
  {
   "cell_type": "code",
   "execution_count": null,
   "metadata": {},
   "outputs": [],
   "source": [
    "# filter numerical variables only\n",
    "impactful_variables = []\n",
    "for column in df.columns:\n",
    "    if (df.dtypes[column] in ['float64', 'int64']):\n",
    "        impactful_variables.append(column)\n",
    "\n",
    "df = df[impactful_variables]\n",
    "len(df.columns)"
   ]
  },
  {
   "cell_type": "code",
   "execution_count": null,
   "metadata": {},
   "outputs": [],
   "source": [
    "# Response distribution\n",
    "\n",
    "Y = df['final_diagnosis_code']\n",
    "print(Y.value_counts())\n",
    "plt.figure()\n",
    "sns.countplot('final_diagnosis_code',data=df)"
   ]
  },
  {
   "cell_type": "code",
   "execution_count": null,
   "metadata": {},
   "outputs": [],
   "source": [
    "klk = np.asarray(df.corr()['final_diagnosis_code']).reshape(165,1)\n",
    "plt.figure(figsize=(5, 20))\n",
    "sns.heatmap(klk, annot=False, fmt=\"g\", cmap='jet')"
   ]
  }
 ],
 "metadata": {
  "kernelspec": {
   "display_name": "Python 3",
   "language": "python",
   "name": "python3"
  },
  "language_info": {
   "codemirror_mode": {
    "name": "ipython",
    "version": 3
   },
   "file_extension": ".py",
   "mimetype": "text/x-python",
   "name": "python",
   "nbconvert_exporter": "python",
   "pygments_lexer": "ipython3",
   "version": "3.6.9"
  }
 },
 "nbformat": 4,
 "nbformat_minor": 4
}
