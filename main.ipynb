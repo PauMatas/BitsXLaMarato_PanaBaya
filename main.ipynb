{
 "cells": [
  {
   "cell_type": "markdown",
   "metadata": {},
   "source": [
    "# Main notebook for COVID-19 detection in children"
   ]
  },
  {
   "cell_type": "markdown",
   "metadata": {},
   "source": [
    "## Authors:\n",
    "\n",
    "- Marc Garcia\n",
    "- Jofre Poch\n",
    "- Pau Tarragó\n",
    "- Pau Matas\n",
    "- Tomás Gadea"
   ]
  },
  {
   "cell_type": "markdown",
   "metadata": {},
   "source": [
    "## Summary of steps for the project:\n",
    "- **Exploratory Data Analysis (EDA)**: entendre les dades\n",
    "\n",
    "\n",
    "- **Data Cleaning**: treure NULLs, eliminar dades no importants, etc.\n",
    "\n",
    "\n",
    "- **Feature Selection**: escollir les variables explicatives que li passarem al model\n",
    "\n",
    "\n",
    "- **Model selection**: Escollir un model classificador (té covid o no; si té covid => PCR, si no => pa casa)\n",
    "\n",
    "\n",
    "- **Model training**: entrenar el model, és copiar 4 linies de codi xd\n",
    "\n",
    "\n",
    "- **Model Validation**: Veure com de bé ho ha fet. Per exemple veient els square errors de valors predits vs resposta de veritat.\n",
    "\n",
    "\n",
    "- **Parameter tunning**: Canviar els paràmetres per millorar el model validation."
   ]
  },
  {
   "cell_type": "markdown",
   "metadata": {},
   "source": [
    "## Actual work:"
   ]
  },
  {
   "cell_type": "code",
   "execution_count": null,
   "metadata": {},
   "outputs": [],
   "source": []
  }
 ],
 "metadata": {
  "kernelspec": {
   "display_name": "Python 3",
   "language": "python",
   "name": "python3"
  },
  "language_info": {
   "codemirror_mode": {
    "name": "ipython",
    "version": 3
   },
   "file_extension": ".py",
   "mimetype": "text/x-python",
   "name": "python",
   "nbconvert_exporter": "python",
   "pygments_lexer": "ipython3",
   "version": "3.7.4"
  }
 },
 "nbformat": 4,
 "nbformat_minor": 2
}
